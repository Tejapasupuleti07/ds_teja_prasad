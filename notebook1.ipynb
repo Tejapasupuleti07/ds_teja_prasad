{
  "nbformat": 4,
  "nbformat_minor": 0,
  "metadata": {
    "colab": {
      "provenance": [],
      "authorship_tag": "ABX9TyOBzozleNjuq7Ufy2jqjrQw",
      "include_colab_link": true
    },
    "kernelspec": {
      "name": "python3",
      "display_name": "Python 3"
    },
    "language_info": {
      "name": "python"
    }
  },
  "cells": [
    {
      "cell_type": "markdown",
      "metadata": {
        "id": "view-in-github",
        "colab_type": "text"
      },
      "source": [
        "<a href=\"https://colab.research.google.com/github/Tejapasupuleti07/ds_teja_prasad/blob/main/notebook1.ipynb\" target=\"_parent\"><img src=\"https://colab.research.google.com/assets/colab-badge.svg\" alt=\"Open In Colab\"/></a>"
      ]
    },
    {
      "cell_type": "code",
      "source": [
        "from google.colab import files\n",
        "uploaded = files.upload()  # Upload both CSV files when prompted\n"
      ],
      "metadata": {
        "colab": {
          "base_uri": "https://localhost:8080/",
          "height": 108
        },
        "id": "IEDnOLOUsR-r",
        "outputId": "55f9194a-dd79-42a9-d68c-be6d085a64e1"
      },
      "execution_count": 6,
      "outputs": [
        {
          "output_type": "display_data",
          "data": {
            "text/plain": [
              "<IPython.core.display.HTML object>"
            ],
            "text/html": [
              "\n",
              "     <input type=\"file\" id=\"files-973fa1a2-7580-4706-804f-8d6db778d4e4\" name=\"files[]\" multiple disabled\n",
              "        style=\"border:none\" />\n",
              "     <output id=\"result-973fa1a2-7580-4706-804f-8d6db778d4e4\">\n",
              "      Upload widget is only available when the cell has been executed in the\n",
              "      current browser session. Please rerun this cell to enable.\n",
              "      </output>\n",
              "      <script>// Copyright 2017 Google LLC\n",
              "//\n",
              "// Licensed under the Apache License, Version 2.0 (the \"License\");\n",
              "// you may not use this file except in compliance with the License.\n",
              "// You may obtain a copy of the License at\n",
              "//\n",
              "//      http://www.apache.org/licenses/LICENSE-2.0\n",
              "//\n",
              "// Unless required by applicable law or agreed to in writing, software\n",
              "// distributed under the License is distributed on an \"AS IS\" BASIS,\n",
              "// WITHOUT WARRANTIES OR CONDITIONS OF ANY KIND, either express or implied.\n",
              "// See the License for the specific language governing permissions and\n",
              "// limitations under the License.\n",
              "\n",
              "/**\n",
              " * @fileoverview Helpers for google.colab Python module.\n",
              " */\n",
              "(function(scope) {\n",
              "function span(text, styleAttributes = {}) {\n",
              "  const element = document.createElement('span');\n",
              "  element.textContent = text;\n",
              "  for (const key of Object.keys(styleAttributes)) {\n",
              "    element.style[key] = styleAttributes[key];\n",
              "  }\n",
              "  return element;\n",
              "}\n",
              "\n",
              "// Max number of bytes which will be uploaded at a time.\n",
              "const MAX_PAYLOAD_SIZE = 100 * 1024;\n",
              "\n",
              "function _uploadFiles(inputId, outputId) {\n",
              "  const steps = uploadFilesStep(inputId, outputId);\n",
              "  const outputElement = document.getElementById(outputId);\n",
              "  // Cache steps on the outputElement to make it available for the next call\n",
              "  // to uploadFilesContinue from Python.\n",
              "  outputElement.steps = steps;\n",
              "\n",
              "  return _uploadFilesContinue(outputId);\n",
              "}\n",
              "\n",
              "// This is roughly an async generator (not supported in the browser yet),\n",
              "// where there are multiple asynchronous steps and the Python side is going\n",
              "// to poll for completion of each step.\n",
              "// This uses a Promise to block the python side on completion of each step,\n",
              "// then passes the result of the previous step as the input to the next step.\n",
              "function _uploadFilesContinue(outputId) {\n",
              "  const outputElement = document.getElementById(outputId);\n",
              "  const steps = outputElement.steps;\n",
              "\n",
              "  const next = steps.next(outputElement.lastPromiseValue);\n",
              "  return Promise.resolve(next.value.promise).then((value) => {\n",
              "    // Cache the last promise value to make it available to the next\n",
              "    // step of the generator.\n",
              "    outputElement.lastPromiseValue = value;\n",
              "    return next.value.response;\n",
              "  });\n",
              "}\n",
              "\n",
              "/**\n",
              " * Generator function which is called between each async step of the upload\n",
              " * process.\n",
              " * @param {string} inputId Element ID of the input file picker element.\n",
              " * @param {string} outputId Element ID of the output display.\n",
              " * @return {!Iterable<!Object>} Iterable of next steps.\n",
              " */\n",
              "function* uploadFilesStep(inputId, outputId) {\n",
              "  const inputElement = document.getElementById(inputId);\n",
              "  inputElement.disabled = false;\n",
              "\n",
              "  const outputElement = document.getElementById(outputId);\n",
              "  outputElement.innerHTML = '';\n",
              "\n",
              "  const pickedPromise = new Promise((resolve) => {\n",
              "    inputElement.addEventListener('change', (e) => {\n",
              "      resolve(e.target.files);\n",
              "    });\n",
              "  });\n",
              "\n",
              "  const cancel = document.createElement('button');\n",
              "  inputElement.parentElement.appendChild(cancel);\n",
              "  cancel.textContent = 'Cancel upload';\n",
              "  const cancelPromise = new Promise((resolve) => {\n",
              "    cancel.onclick = () => {\n",
              "      resolve(null);\n",
              "    };\n",
              "  });\n",
              "\n",
              "  // Wait for the user to pick the files.\n",
              "  const files = yield {\n",
              "    promise: Promise.race([pickedPromise, cancelPromise]),\n",
              "    response: {\n",
              "      action: 'starting',\n",
              "    }\n",
              "  };\n",
              "\n",
              "  cancel.remove();\n",
              "\n",
              "  // Disable the input element since further picks are not allowed.\n",
              "  inputElement.disabled = true;\n",
              "\n",
              "  if (!files) {\n",
              "    return {\n",
              "      response: {\n",
              "        action: 'complete',\n",
              "      }\n",
              "    };\n",
              "  }\n",
              "\n",
              "  for (const file of files) {\n",
              "    const li = document.createElement('li');\n",
              "    li.append(span(file.name, {fontWeight: 'bold'}));\n",
              "    li.append(span(\n",
              "        `(${file.type || 'n/a'}) - ${file.size} bytes, ` +\n",
              "        `last modified: ${\n",
              "            file.lastModifiedDate ? file.lastModifiedDate.toLocaleDateString() :\n",
              "                                    'n/a'} - `));\n",
              "    const percent = span('0% done');\n",
              "    li.appendChild(percent);\n",
              "\n",
              "    outputElement.appendChild(li);\n",
              "\n",
              "    const fileDataPromise = new Promise((resolve) => {\n",
              "      const reader = new FileReader();\n",
              "      reader.onload = (e) => {\n",
              "        resolve(e.target.result);\n",
              "      };\n",
              "      reader.readAsArrayBuffer(file);\n",
              "    });\n",
              "    // Wait for the data to be ready.\n",
              "    let fileData = yield {\n",
              "      promise: fileDataPromise,\n",
              "      response: {\n",
              "        action: 'continue',\n",
              "      }\n",
              "    };\n",
              "\n",
              "    // Use a chunked sending to avoid message size limits. See b/62115660.\n",
              "    let position = 0;\n",
              "    do {\n",
              "      const length = Math.min(fileData.byteLength - position, MAX_PAYLOAD_SIZE);\n",
              "      const chunk = new Uint8Array(fileData, position, length);\n",
              "      position += length;\n",
              "\n",
              "      const base64 = btoa(String.fromCharCode.apply(null, chunk));\n",
              "      yield {\n",
              "        response: {\n",
              "          action: 'append',\n",
              "          file: file.name,\n",
              "          data: base64,\n",
              "        },\n",
              "      };\n",
              "\n",
              "      let percentDone = fileData.byteLength === 0 ?\n",
              "          100 :\n",
              "          Math.round((position / fileData.byteLength) * 100);\n",
              "      percent.textContent = `${percentDone}% done`;\n",
              "\n",
              "    } while (position < fileData.byteLength);\n",
              "  }\n",
              "\n",
              "  // All done.\n",
              "  yield {\n",
              "    response: {\n",
              "      action: 'complete',\n",
              "    }\n",
              "  };\n",
              "}\n",
              "\n",
              "scope.google = scope.google || {};\n",
              "scope.google.colab = scope.google.colab || {};\n",
              "scope.google.colab._files = {\n",
              "  _uploadFiles,\n",
              "  _uploadFilesContinue,\n",
              "};\n",
              "})(self);\n",
              "</script> "
            ]
          },
          "metadata": {}
        },
        {
          "output_type": "stream",
          "name": "stdout",
          "text": [
            "Saving fear_greed_index.csv to fear_greed_index.csv\n",
            "Saving historical_data.csv to historical_data.csv\n"
          ]
        }
      ]
    },
    {
      "cell_type": "code",
      "source": [
        "import pandas as pd\n",
        "\n",
        "# Load both datasets\n",
        "trader_df = pd.read_csv(\"historical_data.csv\")\n",
        "sentiment_df = pd.read_csv(\"fear_greed_index.csv\")\n",
        "\n",
        "# Preview data\n",
        "print(trader_df.head())\n",
        "print(sentiment_df.head())\n"
      ],
      "metadata": {
        "colab": {
          "base_uri": "https://localhost:8080/",
          "height": 0
        },
        "id": "8HPWE4putduh",
        "outputId": "555e908e-9c32-4f41-8dc6-7c640f8d1c7a"
      },
      "execution_count": 7,
      "outputs": [
        {
          "output_type": "stream",
          "name": "stdout",
          "text": [
            "                                      Account  Coin  Execution Price  \\\n",
            "0  0xae5eacaf9c6b9111fd53034a602c192a04e082ed  @107           7.9769   \n",
            "1  0xae5eacaf9c6b9111fd53034a602c192a04e082ed  @107           7.9800   \n",
            "2  0xae5eacaf9c6b9111fd53034a602c192a04e082ed  @107           7.9855   \n",
            "3  0xae5eacaf9c6b9111fd53034a602c192a04e082ed  @107           7.9874   \n",
            "4  0xae5eacaf9c6b9111fd53034a602c192a04e082ed  @107           7.9894   \n",
            "\n",
            "   Size Tokens  Size USD Side     Timestamp IST  Start Position Direction  \\\n",
            "0       986.87   7872.16  BUY  02-12-2024 22:50        0.000000       Buy   \n",
            "1        16.00    127.68  BUY  02-12-2024 22:50      986.524596       Buy   \n",
            "2       144.09   1150.63  BUY  02-12-2024 22:50     1002.518996       Buy   \n",
            "3       142.98   1142.04  BUY  02-12-2024 22:50     1146.558564       Buy   \n",
            "4         8.73     69.75  BUY  02-12-2024 22:50     1289.488521       Buy   \n",
            "\n",
            "   Closed PnL                                   Transaction Hash     Order ID  \\\n",
            "0         0.0  0xec09451986a1874e3a980418412fcd0201f500c95bac...  52017706630   \n",
            "1         0.0  0xec09451986a1874e3a980418412fcd0201f500c95bac...  52017706630   \n",
            "2         0.0  0xec09451986a1874e3a980418412fcd0201f500c95bac...  52017706630   \n",
            "3         0.0  0xec09451986a1874e3a980418412fcd0201f500c95bac...  52017706630   \n",
            "4         0.0  0xec09451986a1874e3a980418412fcd0201f500c95bac...  52017706630   \n",
            "\n",
            "   Crossed       Fee      Trade ID     Timestamp  \n",
            "0     True  0.345404  8.950000e+14  1.730000e+12  \n",
            "1     True  0.005600  4.430000e+14  1.730000e+12  \n",
            "2     True  0.050431  6.600000e+14  1.730000e+12  \n",
            "3     True  0.050043  1.080000e+15  1.730000e+12  \n",
            "4     True  0.003055  1.050000e+15  1.730000e+12  \n",
            "    timestamp  value classification        date\n",
            "0  1517463000     30           Fear  2018-02-01\n",
            "1  1517549400     15   Extreme Fear  2018-02-02\n",
            "2  1517635800     40           Fear  2018-02-03\n",
            "3  1517722200     24   Extreme Fear  2018-02-04\n",
            "4  1517808600     11   Extreme Fear  2018-02-05\n"
          ]
        }
      ]
    },
    {
      "cell_type": "code",
      "source": [
        "print(sentiment_df.columns)\n"
      ],
      "metadata": {
        "colab": {
          "base_uri": "https://localhost:8080/",
          "height": 0
        },
        "id": "Pfe4b6a0t4K7",
        "outputId": "55658dec-7778-4424-a329-b5495045865b"
      },
      "execution_count": 17,
      "outputs": [
        {
          "output_type": "stream",
          "name": "stdout",
          "text": [
            "Index(['timestamp', 'value', 'classification', 'date'], dtype='object')\n"
          ]
        }
      ]
    },
    {
      "cell_type": "code",
      "source": [
        "print(trader_df.columns)\n"
      ],
      "metadata": {
        "colab": {
          "base_uri": "https://localhost:8080/",
          "height": 0
        },
        "id": "7LOP6DHEwR5J",
        "outputId": "cbf8b305-5fd0-4186-f213-71e2aff85a6d"
      },
      "execution_count": 18,
      "outputs": [
        {
          "output_type": "stream",
          "name": "stdout",
          "text": [
            "Index(['Account', 'Coin', 'Execution Price', 'Size Tokens', 'Size USD', 'Side',\n",
            "       'Timestamp IST', 'Start Position', 'Direction', 'Closed PnL',\n",
            "       'Transaction Hash', 'Order ID', 'Crossed', 'Fee', 'Trade ID',\n",
            "       'Timestamp', 'trade_date'],\n",
            "      dtype='object')\n"
          ]
        }
      ]
    },
    {
      "cell_type": "code",
      "source": [
        "trader_df['Timestamp'] = pd.to_datetime(trader_df['Timestamp'], errors='coerce')\n",
        "trader_df['trade_date'] = trader_df['Timestamp'].dt.date\n"
      ],
      "metadata": {
        "id": "N9AUoLmit91M"
      },
      "execution_count": 13,
      "outputs": []
    },
    {
      "cell_type": "code",
      "source": [
        "\n",
        "trader_df.columns = trader_df.columns.str.strip()\n",
        "sentiment_df.columns = sentiment_df.columns.str.strip()\n",
        "\n",
        "sentiment_df.rename(columns={'Date': 'trade_date'}, inplace=True)\n",
        "\n",
        "trader_df['Timestamp'] = pd.to_datetime(trader_df['Timestamp'], errors='coerce')\n",
        "sentiment_df['trade_date'] = pd.to_datetime(sentiment_df['trade_date'], errors='coerce')\n",
        "\n",
        "trader_df['trade_date'] = trader_df['Timestamp'].dt.normalize()\n",
        "\n",
        "trader_df.dropna(inplace=True)\n",
        "sentiment_df.dropna(inplace=True)\n",
        "\n",
        "trader_df.drop_duplicates(inplace=True)\n",
        "sentiment_df.drop_duplicates(inplace=True)\n",
        "\n",
        "trader_df.reset_index(drop=True, inplace=True)\n",
        "sentiment_df.reset_index(drop=True, inplace=True)\n",
        "\n",
        "merged_df = pd.merge(trader_df, sentiment_df, on='trade_date', how='left')\n",
        "\n",
        "print(merged_df.head())\n"
      ],
      "metadata": {
        "colab": {
          "base_uri": "https://localhost:8080/",
          "height": 0
        },
        "id": "Pw0YOJVbxp_X",
        "outputId": "5b2b61ac-1ea8-4085-94c7-9c266d7f33fe"
      },
      "execution_count": 24,
      "outputs": [
        {
          "output_type": "stream",
          "name": "stdout",
          "text": [
            "                                      Account  Coin  Execution Price  \\\n",
            "0  0xae5eacaf9c6b9111fd53034a602c192a04e082ed  @107           7.9769   \n",
            "1  0xae5eacaf9c6b9111fd53034a602c192a04e082ed  @107           7.9800   \n",
            "2  0xae5eacaf9c6b9111fd53034a602c192a04e082ed  @107           7.9855   \n",
            "3  0xae5eacaf9c6b9111fd53034a602c192a04e082ed  @107           7.9874   \n",
            "4  0xae5eacaf9c6b9111fd53034a602c192a04e082ed  @107           7.9894   \n",
            "\n",
            "   Size Tokens  Size USD Side     Timestamp IST  Start Position Direction  \\\n",
            "0       986.87   7872.16  BUY  02-12-2024 22:50        0.000000       Buy   \n",
            "1        16.00    127.68  BUY  02-12-2024 22:50      986.524596       Buy   \n",
            "2       144.09   1150.63  BUY  02-12-2024 22:50     1002.518996       Buy   \n",
            "3       142.98   1142.04  BUY  02-12-2024 22:50     1146.558564       Buy   \n",
            "4         8.73     69.75  BUY  02-12-2024 22:50     1289.488521       Buy   \n",
            "\n",
            "   Closed PnL                                   Transaction Hash     Order ID  \\\n",
            "0         0.0  0xec09451986a1874e3a980418412fcd0201f500c95bac...  52017706630   \n",
            "1         0.0  0xec09451986a1874e3a980418412fcd0201f500c95bac...  52017706630   \n",
            "2         0.0  0xec09451986a1874e3a980418412fcd0201f500c95bac...  52017706630   \n",
            "3         0.0  0xec09451986a1874e3a980418412fcd0201f500c95bac...  52017706630   \n",
            "4         0.0  0xec09451986a1874e3a980418412fcd0201f500c95bac...  52017706630   \n",
            "\n",
            "   Crossed       Fee      Trade ID           Timestamp trade_date  timestamp  \\\n",
            "0     True  0.345404  8.950000e+14 1970-01-01 00:28:50 1970-01-01        NaN   \n",
            "1     True  0.005600  4.430000e+14 1970-01-01 00:28:50 1970-01-01        NaN   \n",
            "2     True  0.050431  6.600000e+14 1970-01-01 00:28:50 1970-01-01        NaN   \n",
            "3     True  0.050043  1.080000e+15 1970-01-01 00:28:50 1970-01-01        NaN   \n",
            "4     True  0.003055  1.050000e+15 1970-01-01 00:28:50 1970-01-01        NaN   \n",
            "\n",
            "   value classification  \n",
            "0    NaN            NaN  \n",
            "1    NaN            NaN  \n",
            "2    NaN            NaN  \n",
            "3    NaN            NaN  \n",
            "4    NaN            NaN  \n"
          ]
        }
      ]
    },
    {
      "cell_type": "code",
      "source": [
        "print(merged_df.columns.tolist())\n"
      ],
      "metadata": {
        "colab": {
          "base_uri": "https://localhost:8080/",
          "height": 0
        },
        "id": "NTzBgpOcyWAC",
        "outputId": "cdc03e22-1077-4b3b-9bf1-2bd3cdd9a0ef"
      },
      "execution_count": 27,
      "outputs": [
        {
          "output_type": "stream",
          "name": "stdout",
          "text": [
            "['Account', 'Coin', 'Execution Price', 'Size Tokens', 'Size USD', 'Side', 'Timestamp IST', 'Start Position', 'Direction', 'Closed PnL', 'Transaction Hash', 'Order ID', 'Crossed', 'Fee', 'Trade ID', 'Timestamp', 'trade_date', 'timestamp', 'value', 'classification']\n"
          ]
        }
      ]
    },
    {
      "cell_type": "code",
      "source": [
        "merged_df.columns = merged_df.columns.str.strip().str.lower()\n"
      ],
      "metadata": {
        "id": "BSiGweP-ytU7"
      },
      "execution_count": 28,
      "outputs": []
    },
    {
      "cell_type": "code",
      "source": [
        "merged_df.columns = merged_df.columns.str.strip().str.lower()\n"
      ],
      "metadata": {
        "id": "5SZFHX-nzC5r"
      },
      "execution_count": 35,
      "outputs": []
    },
    {
      "cell_type": "code",
      "source": [
        "print(merged_df.columns.tolist())\n"
      ],
      "metadata": {
        "colab": {
          "base_uri": "https://localhost:8080/",
          "height": 0
        },
        "id": "wJWDgpDW0OwC",
        "outputId": "5a68581c-5d66-41bd-b1a7-c5c1efb92eec"
      },
      "execution_count": 37,
      "outputs": [
        {
          "output_type": "stream",
          "name": "stdout",
          "text": [
            "['account', 'coin', 'execution price', 'size tokens', 'size usd', 'side', 'timestamp ist', 'start position', 'direction', 'closed pnl', 'transaction hash', 'order id', 'crossed', 'fee', 'trade id', 'timestamp', 'trade_date', 'timestamp', 'value', 'classification']\n"
          ]
        }
      ]
    },
    {
      "cell_type": "code",
      "source": [
        "print(merged_df[['classification', 'closed pnl']].dropna().head())\n"
      ],
      "metadata": {
        "colab": {
          "base_uri": "https://localhost:8080/",
          "height": 0
        },
        "id": "_6Se7Iln0eSv",
        "outputId": "d5b817e8-a53b-49fa-c7e3-22d6f0b0ab0d"
      },
      "execution_count": 42,
      "outputs": [
        {
          "output_type": "stream",
          "name": "stdout",
          "text": [
            "Empty DataFrame\n",
            "Columns: [classification, closed pnl]\n",
            "Index: []\n"
          ]
        }
      ]
    },
    {
      "cell_type": "code",
      "source": [
        "profit_by_sentiment = merged_df.groupby('classification')['closed pnl'].sum()\n",
        "print(profit_by_sentiment)\n"
      ],
      "metadata": {
        "colab": {
          "base_uri": "https://localhost:8080/",
          "height": 0
        },
        "id": "hj-IKcMz1A7-",
        "outputId": "ab302b5c-2bc7-436d-bf2b-51cc0ef37963"
      },
      "execution_count": 43,
      "outputs": [
        {
          "output_type": "stream",
          "name": "stdout",
          "text": [
            "Series([], Name: closed pnl, dtype: float64)\n"
          ]
        }
      ]
    },
    {
      "cell_type": "code",
      "source": [
        "import matplotlib.pyplot as plt\n",
        "import seaborn as sns\n",
        "import pandas as pd\n",
        "\n",
        "# Sample test data\n",
        "test_data = pd.DataFrame({\n",
        "    'classification': ['Fear', 'Greed'],\n",
        "    'closed pnl': [15000, 35000]\n",
        "})\n",
        "\n",
        "# Plot it\n",
        "plt.figure(figsize=(6,4))\n",
        "sns.barplot(x='classification', y='closed pnl', data=test_data)\n",
        "plt.title(\"Test Plot - Total Profit by Market Sentiment\")\n",
        "plt.ylabel(\"Profit\")\n",
        "plt.xlabel(\"Sentiment\")\n",
        "plt.tight_layout()\n",
        "plt.show()\n"
      ],
      "metadata": {
        "colab": {
          "base_uri": "https://localhost:8080/",
          "height": 407
        },
        "id": "ZUGB09JM0voz",
        "outputId": "f91db5ab-36ee-4fe5-bf64-8c83a7d66b20"
      },
      "execution_count": 44,
      "outputs": [
        {
          "output_type": "display_data",
          "data": {
            "text/plain": [
              "<Figure size 600x400 with 1 Axes>"
            ],
            "image/png": "[encoded data removed]"
          },
          "metadata": {}
        }
      ]
    },
    {
      "cell_type": "code",
      "source": [
        "merged_df.columns = merged_df.columns.str.strip().str.lower()\n"
      ],
      "metadata": {
        "id": "6Dmd03B_1O0L"
      },
      "execution_count": 48,
      "outputs": []
    },
    {
      "cell_type": "code",
      "source": [
        "\n",
        "merged_df.columns = merged_df.columns.str.strip().str.lower()\n",
        "\n",
        "if 'closed pnl' in merged_df.columns:\n",
        "    merged_df.rename(columns={'closed pnl': 'closedpnl'}, inplace=True)\n"
      ],
      "metadata": {
        "id": "LB_Mm-Hq12zX"
      },
      "execution_count": 49,
      "outputs": []
    },
    {
      "cell_type": "code",
      "source": [
        "import matplotlib.pyplot as plt\n",
        "import seaborn as sns\n",
        "import pandas as pd\n",
        "\n",
        "# ✅ Sample data to test graph output\n",
        "test_data = pd.DataFrame({\n",
        "    'classification': ['Fear', 'Greed'],\n",
        "    'closedpnl': [15000, 42000]\n",
        "})\n",
        "\n",
        "# ✅ Plot the graph using seaborn\n",
        "plt.figure(figsize=(6,4))\n",
        "sns.barplot(data=test_data, x='classification', y='closedpnl')\n",
        "plt.title(\"Total Profit by Market Sentiment\")\n",
        "plt.xlabel(\"Sentiment\")\n",
        "plt.ylabel(\"Profit\")\n",
        "plt.tight_layout()\n",
        "plt.show()\n"
      ],
      "metadata": {
        "colab": {
          "base_uri": "https://localhost:8080/",
          "height": 407
        },
        "id": "NRNsFgPw18Kr",
        "outputId": "a5e8ceaa-861a-41f5-855c-c829b7cc5e83"
      },
      "execution_count": 54,
      "outputs": [
        {
          "output_type": "display_data",
          "data": {
            "text/plain": [
              "<Figure size 600x400 with 1 Axes>"
            ],
            "image/png": "[encoded data removed]"
          },
          "metadata": {}
        }
      ]
    },
    {
      "cell_type": "code",
      "source": [
        "from google.colab import files\n",
        "files.download(\"outputs/test_profit_by_sentiment.png\")\n"
      ],
      "metadata": {
        "colab": {
          "base_uri": "https://localhost:8080/",
          "height": 17
        },
        "id": "lNTk-gHg-dJG",
        "outputId": "94641fe6-bd40-41c2-92b9-b34d663612c6"
      },
      "execution_count": 59,
      "outputs": [
        {
          "output_type": "display_data",
          "data": {
            "text/plain": [
              "<IPython.core.display.Javascript object>"
            ],
            "application/javascript": [
              "\n",
              "    async function download(id, filename, size) {\n",
              "      if (!google.colab.kernel.accessAllowed) {\n",
              "        return;\n",
              "      }\n",
              "      const div = document.createElement('div');\n",
              "      const label = document.createElement('label');\n",
              "      label.textContent = `Downloading \"${filename}\": `;\n",
              "      div.appendChild(label);\n",
              "      const progress = document.createElement('progress');\n",
              "      progress.max = size;\n",
              "      div.appendChild(progress);\n",
              "      document.body.appendChild(div);\n",
              "\n",
              "      const buffers = [];\n",
              "      let downloaded = 0;\n",
              "\n",
              "      const channel = await google.colab.kernel.comms.open(id);\n",
              "      // Send a message to notify the kernel that we're ready.\n",
              "      channel.send({})\n",
              "\n",
              "      for await (const message of channel.messages) {\n",
              "        // Send a message to notify the kernel that we're ready.\n",
              "        channel.send({})\n",
              "        if (message.buffers) {\n",
              "          for (const buffer of message.buffers) {\n",
              "            buffers.push(buffer);\n",
              "            downloaded += buffer.byteLength;\n",
              "            progress.value = downloaded;\n",
              "          }\n",
              "        }\n",
              "      }\n",
              "      const blob = new Blob(buffers, {type: 'application/binary'});\n",
              "      const a = document.createElement('a');\n",
              "      a.href = window.URL.createObjectURL(blob);\n",
              "      a.download = filename;\n",
              "      div.appendChild(a);\n",
              "      a.click();\n",
              "      div.remove();\n",
              "    }\n",
              "  "
            ]
          },
          "metadata": {}
        },
        {
          "output_type": "display_data",
          "data": {
            "text/plain": [
              "<IPython.core.display.Javascript object>"
            ],
            "application/javascript": [
              "download(\"download_1892847d-4be1-4068-ab67-82e93af543d4\", \"test_profit_by_sentiment.png\", 19308)"
            ]
          },
          "metadata": {}
        }
      ]
    },
    {
      "cell_type": "code",
      "source": [
        "import os\n",
        "\n",
        "# Create folders inside your Colab environment\n",
        "os.makedirs(\"csv_files\", exist_ok=True)\n",
        "os.makedirs(\"outputs\", exist_ok=True)\n"
      ],
      "metadata": {
        "id": "X7RLclBgAkCy"
      },
      "execution_count": 62,
      "outputs": []
    },
    {
      "cell_type": "markdown",
      "source": [
        "# Save merged data\n",
        "merged_df.to_csv(\"csv_files/merged_data.csv\", index=False)\n",
        "\n",
        "# Save graph\n",
        "plt.savefig(\"outputs/test_profit_by_sentiment.png\")\n"
      ],
      "metadata": {
        "id": "IiYd5VnCAlgv"
      }
    }
  ]
}